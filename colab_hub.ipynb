{
 "cells": [
  {
   "cell_type": "markdown",
   "metadata": {},
   "source": [
    "# SenasJanAI Transformerモデル トレーニングハブ\n\n",
    "## 1. 環境設定"
   ]
  },
  {
   "cell_type": "code",
   "execution_count": null,
   "metadata": {},
   "outputs": [],
   "source": [
    "!pip uninstall mahjong -y\n",
    "!pip install mahjong==1.3.0\n",
    "\n",
    "from google.colab import drive\n",
    "drive.mount('/content/drive')\n",
    "\n",
    "%cd \"/content/drive/MyDrive/いろいろ/麻雀AI/googlecolab/senasJanAI\""
   ]
  },
  {
   "cell_type": "markdown",
   "metadata": {},
   "source": [
    "## 2. データセットの準備\n",
    "Google Driveから `data.zip` をColabの高速ローカルストレージに展開します。"
   ]
  },
  {
   "cell_type": "code",
   "execution_count": null,
   "metadata": {},
   "outputs": [],
   "source": [
    "import os\n",
    "import zipfile\n",
    "\n",
    "ZIP_FILE_PATH = 'data.zip'\n",
    "EXTRACT_DIR = '/content/data'\n",
    "\n",
    "print(f\"Copying '{ZIP_FILE_PATH}' to local environment...\")\n",
    "!cp -f \"{ZIP_FILE_PATH}\" /content/\n",
    "\n",
    "print(f\"Unzipping files to '{EXTRACT_DIR}'...\")\n",
    "if os.path.isdir(EXTRACT_DIR):\n",
    "    !rm -rf {EXTRACT_DIR}\n",
    "os.makedirs(EXTRACT_DIR, exist_ok=True)\n",
    "\n",
    "with zipfile.ZipFile('/content/data.zip', 'r') as zip_ref:\n",
    "    zip_ref.extractall('/content/')\n",
    "\n",
    "print(\"Dataset prepared successfully.\")"
   ]
  },
  {
   "cell_type": "markdown",
   "metadata": {},
   "source": [
    "## 3. データ生成（チャンク処理）\n",
    "ローカルの牌譜ログをチャンク（小さな塊）に分けて処理し、メモリ不足を完全に防ぎます。\n",
    "処理完了後、自動的に一つのデータセットに結合されます。"
   ]
  },
  {
   "cell_type": "code",
   "execution_count": null,
   "metadata": {},
   "outputs": [],
   "source": [
    "# sedコマンドは不要になりました\n",
    "!python -m src.transformer.generate_data"
   ]
  },
  {
   "cell_type": "markdown",
   "metadata": {},
   "source": [
    "## 4. モデルの学習"
   ]
  },
  {
   "cell_type": "code",
   "execution_count": null,
   "metadata": {},
   "outputs": [],
   "source": [
    "!python -m src.transformer.train_transformer"
   ]
  },
  {
   "cell_type": "markdown",
   "metadata": {},
   "source": [
    "## 5. 予測の実行"
   ]
  },
  {
   "cell_type": "code",
   "execution_count": null,
   "metadata": {},
   "outputs": [],
   "source": [
    "!python -m src.transformer.predict_transformer"
   ]
  }
 ],
 "metadata": {
  "kernelspec": {
   "display_name": "Python 3",
   "name": "python3"
  }
 },
 "nbformat": 4,
 "nbformat_minor": 0
}