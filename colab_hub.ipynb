{
 "cells": [
  {
   "cell_type": "markdown",
   "metadata": {},
   "source": [
    "# SenasJanAI Transformerモデル トレーニングハブ\n\n",
    "## 1. 環境設定\n",
    "必要なライブラリのインストールと、プロジェクトのセットアップを行います。"
   ]
  },
  {
   "cell_type": "code",
   "execution_count": null,
   "metadata": {},
   "outputs": [],
   "source": [
    "# mahjongライブラリの特定バージョンを確実にインストール\n",
    "!pip uninstall mahjong -y\n",
    "!pip install mahjong==1.3.0\n",
    "\n",
    "# Google Driveをマウント\n",
    "from google.colab import drive\n",
    "drive.mount('/content/drive')\n",
    "\n",
    "# プロジェクトディレクトリに移動\n",
    "%cd \"/content/drive/MyDrive/いろいろ/麻雀AI/googlecolab/senasJanAI\""
   ]
  },
  {
   "cell_type": "markdown",
   "metadata": {},
   "source": [
    "## 2. データセットの準備\n",
    "Google Driveから `data.zip` をコピーし、Colabの高速なローカルストレージに展開します。\n",
    "**初回実行時、または `data.zip` の内容を更新した場合は必ず実行してください。**"
   ]
  },
  {
   "cell_type": "code",
   "execution_count": null,
   "metadata": {},
   "outputs": [],
   "source": [
    "import os\n",
    "import zipfile\n",
    "\n",
    "ZIP_FILE_PATH = 'data.zip'\n",
    "EXTRACT_DIR = '/content/data'\n",
    "\n",
    "print(f\"Copying '{ZIP_FILE_PATH}' to local environment...\")\n",
    "# ColabのローカルにZIPファイルをコピー (これにより展開が高速化する)\n",
    "!cp -f \"{ZIP_FILE_PATH}\" /content/\n",
    "\n",
    "print(f\"Unzipping files to '{EXTRACT_DIR}'...\")\n",
    "# 既存の展開先フォルダがあれば削除して作り直す\n",
    "if os.path.isdir(EXTRACT_DIR):\n",
    "    !rm -rf {EXTRACT_DIR}\n",
    "os.makedirs(EXTRACT_DIR, exist_ok=True)\n",
    "\n",
    "with zipfile.ZipFile('/content/data.zip', 'r') as zip_ref:\n",
    "    zip_ref.extractall('/content/') # /content/data/ に展開される\n",
    "\n",
    "print(\"Dataset prepared successfully.\")"
   ]
  },
  {
   "cell_type": "markdown",
   "metadata": {},
   "source": [
    "## 3. データ生成\n",
    "展開されたローカルの牌譜ログを解析し、モデルが学習できるベクトル形式のデータセットを生成します。\n",
    "ローカルファイルを読むので、以前よりも**劇的に高速化**します。"
   ]
  },
  {
   "cell_type": "code",
   "execution_count": null,
   "metadata": {},
   "outputs": [],
   "source": [
    "# 読み込み先がColabローカルの /content/data になるように、スクリプトを修正\n",
    "!sed -i \"s/DATA_DIR = 'data'/DATA_DIR = '\\/content\\/data'/g\" src/transformer/generate_data.py\n",
    "\n",
    "!python -m src.transformer.generate_data"
   ]
  },
  {
   "cell_type": "markdown",
   "metadata": {},
   "source": [
    "## 4. モデルの学習\n",
    "前のステップで生成したデータセットを読み込み、Transformerモデルの学習を開始します。"
   ]
  },
  {
   "cell_type": "code",
   "execution_count": null,
   "metadata": {},
   "outputs": [],
   "source": [
    "!python -m src.transformer.train_transformer"
   ]
  },
  {
   "cell_type": "markdown",
   "metadata": {},
   "source": [
    "## 5. 予測の実行\n",
    "学習済みの最新モデルを使い、サンプルデータに対する予測を行います。"
   ]
  },
  {
   "cell_type": "code",
   "execution_count": null,
   "metadata": {},
   "outputs": [],
   "source": [
    "!python -m src.transformer.predict_transformer"
   ]
  }
 ],
 "metadata": {
  "kernelspec": {
   "display_name": "Python 3",
   "name": "python3"
  }
 },
 "nbformat": 4,
 "nbformat_minor": 0
}